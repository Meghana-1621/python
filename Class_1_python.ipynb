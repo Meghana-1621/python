{
  "cells": [
    {
      "cell_type": "code",
      "source": [
        "a=10\n",
        "b=10\n",
        "a"
      ],
      "metadata": {
        "id": "mBBxIurXoswJ",
        "outputId": "d6a6dcd9-5796-4e36-affa-b866851e1469",
        "colab": {
          "base_uri": "https://localhost:8080/"
        }
      },
      "execution_count": null,
      "outputs": [
        {
          "output_type": "execute_result",
          "data": {
            "text/plain": [
              "10"
            ]
          },
          "metadata": {},
          "execution_count": 9
        }
      ]
    },
    {
      "cell_type": "code",
      "source": [
        "b"
      ],
      "metadata": {
        "id": "ye6QwRjioqEM",
        "outputId": "572c528b-a760-466e-bd6c-85f139820eaa",
        "colab": {
          "base_uri": "https://localhost:8080/"
        }
      },
      "execution_count": null,
      "outputs": [
        {
          "output_type": "execute_result",
          "data": {
            "text/plain": [
              "10"
            ]
          },
          "metadata": {},
          "execution_count": 10
        }
      ]
    },
    {
      "cell_type": "markdown",
      "source": [
        "Heading\n"
      ],
      "metadata": {
        "id": "wrtgKok9pKJo"
      }
    },
    {
      "cell_type": "code",
      "source": [
        "a=10"
      ],
      "metadata": {
        "id": "X3VHoZkSoqAi"
      },
      "execution_count": null,
      "outputs": []
    },
    {
      "cell_type": "code",
      "source": [
        "7a=10"
      ],
      "metadata": {
        "id": "TDRgRjY9op-M",
        "outputId": "adeda673-af44-40ef-af7f-115ef555dc29",
        "colab": {
          "base_uri": "https://localhost:8080/",
          "height": 106
        }
      },
      "execution_count": null,
      "outputs": [
        {
          "output_type": "error",
          "ename": "SyntaxError",
          "evalue": "invalid decimal literal (<ipython-input-11-fa24789147e0>, line 1)",
          "traceback": [
            "\u001b[0;36m  File \u001b[0;32m\"<ipython-input-11-fa24789147e0>\"\u001b[0;36m, line \u001b[0;32m1\u001b[0m\n\u001b[0;31m    7a=10\u001b[0m\n\u001b[0m    ^\u001b[0m\n\u001b[0;31mSyntaxError\u001b[0m\u001b[0;31m:\u001b[0m invalid decimal literal\n"
          ]
        }
      ]
    },
    {
      "cell_type": "code",
      "source": [
        "a7a=10\n",
        "a"
      ],
      "metadata": {
        "id": "LQe2O1Cxop7h",
        "outputId": "ca828166-8995-4451-fe30-2149c7b36a46",
        "colab": {
          "base_uri": "https://localhost:8080/"
        }
      },
      "execution_count": null,
      "outputs": [
        {
          "output_type": "execute_result",
          "data": {
            "text/plain": [
              "10"
            ]
          },
          "metadata": {},
          "execution_count": 14
        }
      ]
    },
    {
      "cell_type": "code",
      "source": [
        "a7=10\n",
        "a"
      ],
      "metadata": {
        "id": "DlQ1E7kGop4q",
        "outputId": "12f66609-a542-4961-a44a-cd22ec31c60d",
        "colab": {
          "base_uri": "https://localhost:8080/"
        }
      },
      "execution_count": null,
      "outputs": [
        {
          "output_type": "execute_result",
          "data": {
            "text/plain": [
              "10"
            ]
          },
          "metadata": {},
          "execution_count": 13
        }
      ]
    },
    {
      "cell_type": "code",
      "source": [
        "a&d=10\n",
        "a"
      ],
      "metadata": {
        "id": "v051A-jGop11",
        "outputId": "f4c9ff47-2ce0-4311-91e9-53d79c5bdf99",
        "colab": {
          "base_uri": "https://localhost:8080/",
          "height": 106
        }
      },
      "execution_count": null,
      "outputs": [
        {
          "output_type": "error",
          "ename": "SyntaxError",
          "evalue": "cannot assign to expression here. Maybe you meant '==' instead of '='? (<ipython-input-15-0e276801d6fd>, line 1)",
          "traceback": [
            "\u001b[0;36m  File \u001b[0;32m\"<ipython-input-15-0e276801d6fd>\"\u001b[0;36m, line \u001b[0;32m1\u001b[0m\n\u001b[0;31m    a&d=10\u001b[0m\n\u001b[0m    ^\u001b[0m\n\u001b[0;31mSyntaxError\u001b[0m\u001b[0;31m:\u001b[0m cannot assign to expression here. Maybe you meant '==' instead of '='?\n"
          ]
        }
      ]
    },
    {
      "cell_type": "code",
      "source": [
        "a_=20\n",
        "a"
      ],
      "metadata": {
        "id": "qNP02Jogopy-",
        "outputId": "a6d5b576-764d-4e0c-b285-a53d2d34bd6c",
        "colab": {
          "base_uri": "https://localhost:8080/"
        }
      },
      "execution_count": null,
      "outputs": [
        {
          "output_type": "execute_result",
          "data": {
            "text/plain": [
              "10"
            ]
          },
          "metadata": {},
          "execution_count": 16
        }
      ]
    },
    {
      "cell_type": "code",
      "source": [
        "await=20"
      ],
      "metadata": {
        "id": "Z4EHT2tqopwO",
        "outputId": "ffcc7805-5ed2-4511-9e19-b35ce9a45433",
        "colab": {
          "base_uri": "https://localhost:8080/",
          "height": 106
        }
      },
      "execution_count": null,
      "outputs": [
        {
          "output_type": "error",
          "ename": "SyntaxError",
          "evalue": "invalid syntax (<ipython-input-17-f003e0e87874>, line 1)",
          "traceback": [
            "\u001b[0;36m  File \u001b[0;32m\"<ipython-input-17-f003e0e87874>\"\u001b[0;36m, line \u001b[0;32m1\u001b[0m\n\u001b[0;31m    await=20\u001b[0m\n\u001b[0m         ^\u001b[0m\n\u001b[0;31mSyntaxError\u001b[0m\u001b[0;31m:\u001b[0m invalid syntax\n"
          ]
        }
      ]
    },
    {
      "cell_type": "code",
      "source": [
        "a=10.6+3j\n",
        "type(a)"
      ],
      "metadata": {
        "id": "8VUxAd9topti",
        "outputId": "88cd670a-7980-42ea-f572-c9c5ed138851",
        "colab": {
          "base_uri": "https://localhost:8080/"
        }
      },
      "execution_count": null,
      "outputs": [
        {
          "output_type": "execute_result",
          "data": {
            "text/plain": [
              "complex"
            ]
          },
          "metadata": {},
          "execution_count": 18
        }
      ]
    },
    {
      "cell_type": "code",
      "source": [
        "string='''Data\n",
        "science\n",
        "machine learning\n",
        "ai'''\n",
        "type(string)"
      ],
      "metadata": {
        "id": "M-gC6_XUopqx",
        "outputId": "c041c09c-2b07-4915-e511-2b188ae2d8be",
        "colab": {
          "base_uri": "https://localhost:8080/"
        }
      },
      "execution_count": null,
      "outputs": [
        {
          "output_type": "execute_result",
          "data": {
            "text/plain": [
              "str"
            ]
          },
          "metadata": {},
          "execution_count": 20
        }
      ]
    },
    {
      "cell_type": "code",
      "source": [
        "string"
      ],
      "metadata": {
        "id": "vOIQITIkopoD",
        "outputId": "dc90073f-1cb1-4599-c057-015764c7da58",
        "colab": {
          "base_uri": "https://localhost:8080/",
          "height": 35
        }
      },
      "execution_count": null,
      "outputs": [
        {
          "output_type": "execute_result",
          "data": {
            "text/plain": [
              "'Data\\nscience\\nmachine learning\\nai'"
            ],
            "application/vnd.google.colaboratory.intrinsic+json": {
              "type": "string"
            }
          },
          "metadata": {},
          "execution_count": 23
        }
      ]
    },
    {
      "cell_type": "code",
      "source": [
        "string='meghana leo'\n",
        "string[0:2]"
      ],
      "metadata": {
        "id": "GN0a04AWoplb",
        "outputId": "57078fc9-f532-4855-b87e-2bf1b41d6343",
        "colab": {
          "base_uri": "https://localhost:8080/",
          "height": 35
        }
      },
      "execution_count": null,
      "outputs": [
        {
          "output_type": "execute_result",
          "data": {
            "text/plain": [
              "'me'"
            ],
            "application/vnd.google.colaboratory.intrinsic+json": {
              "type": "string"
            }
          },
          "metadata": {},
          "execution_count": 24
        }
      ]
    },
    {
      "cell_type": "code",
      "source": [
        "print(string[4])"
      ],
      "metadata": {
        "id": "uM5Rk5wPopil",
        "outputId": "da338c0f-9926-46bb-9dac-cc90c5f39e20",
        "colab": {
          "base_uri": "https://localhost:8080/"
        }
      },
      "execution_count": null,
      "outputs": [
        {
          "output_type": "stream",
          "name": "stdout",
          "text": [
            "a\n"
          ]
        }
      ]
    },
    {
      "cell_type": "code",
      "source": [
        "sstring='meghana leo'\n",
        "string[0:2]"
      ],
      "metadata": {
        "id": "5KBTQj-yopfn",
        "outputId": "3be9efe6-a872-42b2-a7f4-a88d837328c4",
        "colab": {
          "base_uri": "https://localhost:8080/",
          "height": 35
        }
      },
      "execution_count": null,
      "outputs": [
        {
          "output_type": "execute_result",
          "data": {
            "text/plain": [
              "'a l'"
            ],
            "application/vnd.google.colaboratory.intrinsic+json": {
              "type": "string"
            }
          },
          "metadata": {},
          "execution_count": 26
        }
      ]
    },
    {
      "cell_type": "code",
      "source": [
        "string='meghana leo'\n",
        "string[9:4]"
      ],
      "metadata": {
        "id": "wglkr6wCopce",
        "outputId": "91c5427a-50d0-4b1a-9522-9419547e7d4f",
        "colab": {
          "base_uri": "https://localhost:8080/",
          "height": 35
        }
      },
      "execution_count": null,
      "outputs": [
        {
          "output_type": "execute_result",
          "data": {
            "text/plain": [
              "''"
            ],
            "application/vnd.google.colaboratory.intrinsic+json": {
              "type": "string"
            }
          },
          "metadata": {},
          "execution_count": 27
        }
      ]
    },
    {
      "cell_type": "code",
      "source": [
        "string='meghana leo'\n",
        "string[10:5]"
      ],
      "metadata": {
        "id": "shZPdy1wopZ7",
        "outputId": "450e6c60-3635-4236-a077-c7e48f8d41aa",
        "colab": {
          "base_uri": "https://localhost:8080/",
          "height": 35
        }
      },
      "execution_count": null,
      "outputs": [
        {
          "output_type": "execute_result",
          "data": {
            "text/plain": [
              "''"
            ],
            "application/vnd.google.colaboratory.intrinsic+json": {
              "type": "string"
            }
          },
          "metadata": {},
          "execution_count": 34
        }
      ]
    },
    {
      "cell_type": "code",
      "source": [
        "string='meghana leo'\n",
        "string[-8:-5]"
      ],
      "metadata": {
        "id": "WoGMH0a-opW3",
        "outputId": "c8f12b07-75ff-405b-ec3b-43dd23b973c8",
        "colab": {
          "base_uri": "https://localhost:8080/",
          "height": 35
        }
      },
      "execution_count": null,
      "outputs": [
        {
          "output_type": "execute_result",
          "data": {
            "text/plain": [
              "'han'"
            ],
            "application/vnd.google.colaboratory.intrinsic+json": {
              "type": "string"
            }
          },
          "metadata": {},
          "execution_count": 36
        }
      ]
    },
    {
      "cell_type": "code",
      "source": [
        "string='meghana leo'\n",
        "string[-10:-5]"
      ],
      "metadata": {
        "id": "istaFyfSopUQ",
        "outputId": "5c3f1057-c5f6-4318-e366-ec0dacf82782",
        "colab": {
          "base_uri": "https://localhost:8080/",
          "height": 35
        }
      },
      "execution_count": null,
      "outputs": [
        {
          "output_type": "execute_result",
          "data": {
            "text/plain": [
              "'eghan'"
            ],
            "application/vnd.google.colaboratory.intrinsic+json": {
              "type": "string"
            }
          },
          "metadata": {},
          "execution_count": 37
        }
      ]
    },
    {
      "cell_type": "code",
      "source": [
        "string1=\"Data Science\"\n",
        "string2=\"Data Science\"\n",
        "string3=\"Data Science\"\n",
        "string1"
      ],
      "metadata": {
        "id": "JoJCcaXDopRv",
        "outputId": "48473965-e826-4a1f-f5a8-dea8a9d65ab3",
        "colab": {
          "base_uri": "https://localhost:8080/",
          "height": 35
        }
      },
      "execution_count": null,
      "outputs": [
        {
          "output_type": "execute_result",
          "data": {
            "text/plain": [
              "'Data Science'"
            ],
            "application/vnd.google.colaboratory.intrinsic+json": {
              "type": "string"
            }
          },
          "metadata": {},
          "execution_count": 38
        }
      ]
    },
    {
      "cell_type": "code",
      "source": [
        "string1.upper()"
      ],
      "metadata": {
        "id": "Y_16SKhOopO0",
        "outputId": "e937a78e-09d4-4566-aac1-0afbcfbba159",
        "colab": {
          "base_uri": "https://localhost:8080/",
          "height": 35
        }
      },
      "execution_count": null,
      "outputs": [
        {
          "output_type": "execute_result",
          "data": {
            "text/plain": [
              "'DATA SCIENCE'"
            ],
            "application/vnd.google.colaboratory.intrinsic+json": {
              "type": "string"
            }
          },
          "metadata": {},
          "execution_count": 39
        }
      ]
    },
    {
      "cell_type": "code",
      "source": [
        "string2.lower()"
      ],
      "metadata": {
        "id": "Sjo4CUWRopMm",
        "outputId": "d2f8f1e5-0764-47f3-c1c9-f222557c952f",
        "colab": {
          "base_uri": "https://localhost:8080/",
          "height": 35
        }
      },
      "execution_count": null,
      "outputs": [
        {
          "output_type": "execute_result",
          "data": {
            "text/plain": [
              "'data science'"
            ],
            "application/vnd.google.colaboratory.intrinsic+json": {
              "type": "string"
            }
          },
          "metadata": {},
          "execution_count": 40
        }
      ]
    },
    {
      "cell_type": "code",
      "source": [
        "string3.swapcase()"
      ],
      "metadata": {
        "id": "Ni9uCwj2tlXG",
        "outputId": "5f96d494-e9aa-4ceb-a0d3-42f70db68a29",
        "colab": {
          "base_uri": "https://localhost:8080/",
          "height": 35
        }
      },
      "execution_count": null,
      "outputs": [
        {
          "output_type": "execute_result",
          "data": {
            "text/plain": [
              "'dATA sCIENCE'"
            ],
            "application/vnd.google.colaboratory.intrinsic+json": {
              "type": "string"
            }
          },
          "metadata": {},
          "execution_count": 42
        }
      ]
    },
    {
      "cell_type": "code",
      "source": [
        "string1.title()"
      ],
      "metadata": {
        "id": "hwrgFO7otlZq",
        "outputId": "41b06a2e-3ead-4632-b0b8-b5f50c401fcd",
        "colab": {
          "base_uri": "https://localhost:8080/",
          "height": 35
        }
      },
      "execution_count": null,
      "outputs": [
        {
          "output_type": "execute_result",
          "data": {
            "text/plain": [
              "'Data Science'"
            ],
            "application/vnd.google.colaboratory.intrinsic+json": {
              "type": "string"
            }
          },
          "metadata": {},
          "execution_count": 43
        }
      ]
    },
    {
      "cell_type": "code",
      "source": [
        "string1.capitalize()"
      ],
      "metadata": {
        "id": "nVUW09eQtlcN",
        "outputId": "33bf0a72-4931-4a2c-d270-c4c5c229e736",
        "colab": {
          "base_uri": "https://localhost:8080/",
          "height": 35
        }
      },
      "execution_count": null,
      "outputs": [
        {
          "output_type": "execute_result",
          "data": {
            "text/plain": [
              "'Data science'"
            ],
            "application/vnd.google.colaboratory.intrinsic+json": {
              "type": "string"
            }
          },
          "metadata": {},
          "execution_count": 44
        }
      ]
    },
    {
      "cell_type": "code",
      "source": [
        "string1.swapcase()"
      ],
      "metadata": {
        "id": "e_loVVtWtlex",
        "outputId": "6bfe2406-1b5c-4d8f-fe06-d984266b4b2c",
        "colab": {
          "base_uri": "https://localhost:8080/",
          "height": 35
        }
      },
      "execution_count": null,
      "outputs": [
        {
          "output_type": "execute_result",
          "data": {
            "text/plain": [
              "'dATA sCIENCE'"
            ],
            "application/vnd.google.colaboratory.intrinsic+json": {
              "type": "string"
            }
          },
          "metadata": {},
          "execution_count": 46
        }
      ]
    },
    {
      "cell_type": "code",
      "source": [
        "string2.isalpha()"
      ],
      "metadata": {
        "id": "IoNp49FstlhQ",
        "outputId": "c5bff8c5-d644-4710-bc2e-b061817bd6f5",
        "colab": {
          "base_uri": "https://localhost:8080/"
        }
      },
      "execution_count": null,
      "outputs": [
        {
          "output_type": "execute_result",
          "data": {
            "text/plain": [
              "False"
            ]
          },
          "metadata": {},
          "execution_count": 48
        }
      ]
    },
    {
      "cell_type": "code",
      "source": [
        "string2.isalnum()"
      ],
      "metadata": {
        "id": "8eiOCAnYtlj0",
        "outputId": "e1a0fbab-12d2-4090-d543-da787ef512dd",
        "colab": {
          "base_uri": "https://localhost:8080/"
        }
      },
      "execution_count": null,
      "outputs": [
        {
          "output_type": "execute_result",
          "data": {
            "text/plain": [
              "False"
            ]
          },
          "metadata": {},
          "execution_count": 49
        }
      ]
    },
    {
      "cell_type": "code",
      "source": [
        "string3.endswith( 'science')"
      ],
      "metadata": {
        "id": "MinLpAIZtlmF",
        "outputId": "db6257fd-9dca-4ff3-df1b-3bed8dcd801f",
        "colab": {
          "base_uri": "https://localhost:8080/"
        }
      },
      "execution_count": null,
      "outputs": [
        {
          "output_type": "execute_result",
          "data": {
            "text/plain": [
              "False"
            ]
          },
          "metadata": {},
          "execution_count": 60
        }
      ]
    },
    {
      "cell_type": "code",
      "source": [
        "string3.endswith('cience')"
      ],
      "metadata": {
        "id": "Vt7WFqNstlph",
        "outputId": "eee5a607-8f78-4aba-b83b-a3db2f5fc21d",
        "colab": {
          "base_uri": "https://localhost:8080/"
        }
      },
      "execution_count": null,
      "outputs": [
        {
          "output_type": "execute_result",
          "data": {
            "text/plain": [
              "True"
            ]
          },
          "metadata": {},
          "execution_count": 72
        }
      ]
    },
    {
      "cell_type": "code",
      "source": [
        "string2.startswith('D')"
      ],
      "metadata": {
        "id": "cmyyg2KyuzY-",
        "outputId": "b9cab25f-60b1-476e-9986-6d716e7e159d",
        "colab": {
          "base_uri": "https://localhost:8080/"
        }
      },
      "execution_count": null,
      "outputs": [
        {
          "output_type": "execute_result",
          "data": {
            "text/plain": [
              "True"
            ]
          },
          "metadata": {},
          "execution_count": 55
        }
      ]
    },
    {
      "cell_type": "code",
      "source": [
        "string1.startswith('Data')"
      ],
      "metadata": {
        "id": "ktls4yvNuzbf",
        "outputId": "e2240727-4aad-4b48-e306-ed1564d48e91",
        "colab": {
          "base_uri": "https://localhost:8080/"
        }
      },
      "execution_count": null,
      "outputs": [
        {
          "output_type": "execute_result",
          "data": {
            "text/plain": [
              "True"
            ]
          },
          "metadata": {},
          "execution_count": 58
        }
      ]
    },
    {
      "cell_type": "code",
      "source": [
        "string2.split()"
      ],
      "metadata": {
        "id": "kgI0KyrBuzeR",
        "outputId": "c52a28d1-03e9-4361-fcf2-1fa333037dc4",
        "colab": {
          "base_uri": "https://localhost:8080/"
        }
      },
      "execution_count": null,
      "outputs": [
        {
          "output_type": "execute_result",
          "data": {
            "text/plain": [
              "['Data', 'Science']"
            ]
          },
          "metadata": {},
          "execution_count": 73
        }
      ]
    },
    {
      "cell_type": "code",
      "source": [
        "string2.split('a')"
      ],
      "metadata": {
        "id": "f7lXhP24uzhn",
        "outputId": "643822d3-9229-42aa-fdb0-83cb45b22022",
        "colab": {
          "base_uri": "https://localhost:8080/"
        }
      },
      "execution_count": null,
      "outputs": [
        {
          "output_type": "execute_result",
          "data": {
            "text/plain": [
              "['D', 't', ' Science']"
            ]
          },
          "metadata": {},
          "execution_count": 75
        }
      ]
    },
    {
      "cell_type": "code",
      "source": [
        "string='  '\n",
        "string.isspace()"
      ],
      "metadata": {
        "id": "a1iROLPAwtqd",
        "outputId": "2f3729bd-9b9a-4375-9a79-ed94b65bd7f3",
        "colab": {
          "base_uri": "https://localhost:8080/"
        }
      },
      "execution_count": null,
      "outputs": [
        {
          "output_type": "execute_result",
          "data": {
            "text/plain": [
              "True"
            ]
          },
          "metadata": {},
          "execution_count": 78
        }
      ]
    },
    {
      "cell_type": "code",
      "source": [
        "string='1431621'\n",
        "string.isnumeric()"
      ],
      "metadata": {
        "id": "UIyJQS9Bwts8",
        "outputId": "fbd9a60f-b420-4cc3-dbf7-61cdfa1557e1",
        "colab": {
          "base_uri": "https://localhost:8080/"
        }
      },
      "execution_count": null,
      "outputs": [
        {
          "output_type": "execute_result",
          "data": {
            "text/plain": [
              "True"
            ]
          },
          "metadata": {},
          "execution_count": 80
        }
      ]
    },
    {
      "cell_type": "code",
      "source": [
        "string='hkjyytsh1431621'\n",
        "string.isalnum()"
      ],
      "metadata": {
        "id": "2gN4sfhRwtva",
        "outputId": "874081f5-cf72-4b64-99bb-58ad5d81a925",
        "colab": {
          "base_uri": "https://localhost:8080/"
        }
      },
      "execution_count": null,
      "outputs": [
        {
          "output_type": "execute_result",
          "data": {
            "text/plain": [
              "True"
            ]
          },
          "metadata": {},
          "execution_count": 82
        }
      ]
    },
    {
      "cell_type": "code",
      "source": [],
      "metadata": {
        "id": "rRt0WbqawtyG"
      },
      "execution_count": null,
      "outputs": []
    },
    {
      "cell_type": "code",
      "source": [],
      "metadata": {
        "id": "QWtIoDdVwt1u"
      },
      "execution_count": null,
      "outputs": []
    }
  ],
  "metadata": {
    "colab": {
      "toc_visible": true,
      "provenance": []
    },
    "kernelspec": {
      "display_name": "Python 3",
      "name": "python3"
    }
  },
  "nbformat": 4,
  "nbformat_minor": 0
}